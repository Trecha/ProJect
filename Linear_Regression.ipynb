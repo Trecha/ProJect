{
  "nbformat": 4,
  "nbformat_minor": 0,
  "metadata": {
    "colab": {
      "provenance": [],
      "include_colab_link": true
    },
    "kernelspec": {
      "name": "python3",
      "display_name": "Python 3"
    },
    "language_info": {
      "name": "python"
    }
  },
  "cells": [
    {
      "cell_type": "markdown",
      "metadata": {
        "id": "view-in-github",
        "colab_type": "text"
      },
      "source": [
        "<a href=\"https://colab.research.google.com/github/Trecha/ProJect/blob/main/Linear_Regression.ipynb\" target=\"_parent\"><img src=\"https://colab.research.google.com/assets/colab-badge.svg\" alt=\"Open In Colab\"/></a>"
      ]
    },
    {
      "cell_type": "code",
      "execution_count": null,
      "metadata": {
        "id": "a9D_uCbsiy8W"
      },
      "outputs": [],
      "source": [
        "import pandas as pd\n",
        "import numpy as np\n",
        "from sklearn import linear_model\n",
        "import seaborn as sns\n",
        "import matplotlib.pyplot as plt\n",
        "%matplotlib inline\n",
        "from sklearn.model_selection import train_test_split\n",
        "from sklearn.metrics import accuracy_score\n",
        "import time"
      ]
    },
    {
      "cell_type": "code",
      "source": [
        "start=time.time()"
      ],
      "metadata": {
        "id": "tgekGuxeWr5I"
      },
      "execution_count": null,
      "outputs": []
    },
    {
      "cell_type": "code",
      "source": [
        "df = pd.read_csv(\"./power plant.csv\")"
      ],
      "metadata": {
        "id": "r-KtZOxXi3aL"
      },
      "execution_count": null,
      "outputs": []
    },
    {
      "cell_type": "code",
      "source": [
        "df.head()"
      ],
      "metadata": {
        "colab": {
          "base_uri": "https://localhost:8080/",
          "height": 206
        },
        "id": "vySUKZKVjcsh",
        "outputId": "f70faf65-1cdf-43b5-8d1a-99ada55bebc1"
      },
      "execution_count": null,
      "outputs": [
        {
          "output_type": "execute_result",
          "data": {
            "text/plain": [
              "       T      V       AP     RH      EP\n",
              "0  14.96  41.76  1024.07  73.17  463.26\n",
              "1  25.18  62.96  1020.04  59.08  444.37\n",
              "2   5.11  39.40  1012.16  92.14  488.56\n",
              "3  20.86  57.32  1010.24  76.64  446.48\n",
              "4  10.82  37.50  1009.23  96.62  473.90"
            ],
            "text/html": [
              "\n",
              "  <div id=\"df-245674c3-cc73-4919-afff-500e8bb625c1\">\n",
              "    <div class=\"colab-df-container\">\n",
              "      <div>\n",
              "<style scoped>\n",
              "    .dataframe tbody tr th:only-of-type {\n",
              "        vertical-align: middle;\n",
              "    }\n",
              "\n",
              "    .dataframe tbody tr th {\n",
              "        vertical-align: top;\n",
              "    }\n",
              "\n",
              "    .dataframe thead th {\n",
              "        text-align: right;\n",
              "    }\n",
              "</style>\n",
              "<table border=\"1\" class=\"dataframe\">\n",
              "  <thead>\n",
              "    <tr style=\"text-align: right;\">\n",
              "      <th></th>\n",
              "      <th>T</th>\n",
              "      <th>V</th>\n",
              "      <th>AP</th>\n",
              "      <th>RH</th>\n",
              "      <th>EP</th>\n",
              "    </tr>\n",
              "  </thead>\n",
              "  <tbody>\n",
              "    <tr>\n",
              "      <th>0</th>\n",
              "      <td>14.96</td>\n",
              "      <td>41.76</td>\n",
              "      <td>1024.07</td>\n",
              "      <td>73.17</td>\n",
              "      <td>463.26</td>\n",
              "    </tr>\n",
              "    <tr>\n",
              "      <th>1</th>\n",
              "      <td>25.18</td>\n",
              "      <td>62.96</td>\n",
              "      <td>1020.04</td>\n",
              "      <td>59.08</td>\n",
              "      <td>444.37</td>\n",
              "    </tr>\n",
              "    <tr>\n",
              "      <th>2</th>\n",
              "      <td>5.11</td>\n",
              "      <td>39.40</td>\n",
              "      <td>1012.16</td>\n",
              "      <td>92.14</td>\n",
              "      <td>488.56</td>\n",
              "    </tr>\n",
              "    <tr>\n",
              "      <th>3</th>\n",
              "      <td>20.86</td>\n",
              "      <td>57.32</td>\n",
              "      <td>1010.24</td>\n",
              "      <td>76.64</td>\n",
              "      <td>446.48</td>\n",
              "    </tr>\n",
              "    <tr>\n",
              "      <th>4</th>\n",
              "      <td>10.82</td>\n",
              "      <td>37.50</td>\n",
              "      <td>1009.23</td>\n",
              "      <td>96.62</td>\n",
              "      <td>473.90</td>\n",
              "    </tr>\n",
              "  </tbody>\n",
              "</table>\n",
              "</div>\n",
              "      <button class=\"colab-df-convert\" onclick=\"convertToInteractive('df-245674c3-cc73-4919-afff-500e8bb625c1')\"\n",
              "              title=\"Convert this dataframe to an interactive table.\"\n",
              "              style=\"display:none;\">\n",
              "        \n",
              "  <svg xmlns=\"http://www.w3.org/2000/svg\" height=\"24px\"viewBox=\"0 0 24 24\"\n",
              "       width=\"24px\">\n",
              "    <path d=\"M0 0h24v24H0V0z\" fill=\"none\"/>\n",
              "    <path d=\"M18.56 5.44l.94 2.06.94-2.06 2.06-.94-2.06-.94-.94-2.06-.94 2.06-2.06.94zm-11 1L8.5 8.5l.94-2.06 2.06-.94-2.06-.94L8.5 2.5l-.94 2.06-2.06.94zm10 10l.94 2.06.94-2.06 2.06-.94-2.06-.94-.94-2.06-.94 2.06-2.06.94z\"/><path d=\"M17.41 7.96l-1.37-1.37c-.4-.4-.92-.59-1.43-.59-.52 0-1.04.2-1.43.59L10.3 9.45l-7.72 7.72c-.78.78-.78 2.05 0 2.83L4 21.41c.39.39.9.59 1.41.59.51 0 1.02-.2 1.41-.59l7.78-7.78 2.81-2.81c.8-.78.8-2.07 0-2.86zM5.41 20L4 18.59l7.72-7.72 1.47 1.35L5.41 20z\"/>\n",
              "  </svg>\n",
              "      </button>\n",
              "      \n",
              "  <style>\n",
              "    .colab-df-container {\n",
              "      display:flex;\n",
              "      flex-wrap:wrap;\n",
              "      gap: 12px;\n",
              "    }\n",
              "\n",
              "    .colab-df-convert {\n",
              "      background-color: #E8F0FE;\n",
              "      border: none;\n",
              "      border-radius: 50%;\n",
              "      cursor: pointer;\n",
              "      display: none;\n",
              "      fill: #1967D2;\n",
              "      height: 32px;\n",
              "      padding: 0 0 0 0;\n",
              "      width: 32px;\n",
              "    }\n",
              "\n",
              "    .colab-df-convert:hover {\n",
              "      background-color: #E2EBFA;\n",
              "      box-shadow: 0px 1px 2px rgba(60, 64, 67, 0.3), 0px 1px 3px 1px rgba(60, 64, 67, 0.15);\n",
              "      fill: #174EA6;\n",
              "    }\n",
              "\n",
              "    [theme=dark] .colab-df-convert {\n",
              "      background-color: #3B4455;\n",
              "      fill: #D2E3FC;\n",
              "    }\n",
              "\n",
              "    [theme=dark] .colab-df-convert:hover {\n",
              "      background-color: #434B5C;\n",
              "      box-shadow: 0px 1px 3px 1px rgba(0, 0, 0, 0.15);\n",
              "      filter: drop-shadow(0px 1px 2px rgba(0, 0, 0, 0.3));\n",
              "      fill: #FFFFFF;\n",
              "    }\n",
              "  </style>\n",
              "\n",
              "      <script>\n",
              "        const buttonEl =\n",
              "          document.querySelector('#df-245674c3-cc73-4919-afff-500e8bb625c1 button.colab-df-convert');\n",
              "        buttonEl.style.display =\n",
              "          google.colab.kernel.accessAllowed ? 'block' : 'none';\n",
              "\n",
              "        async function convertToInteractive(key) {\n",
              "          const element = document.querySelector('#df-245674c3-cc73-4919-afff-500e8bb625c1');\n",
              "          const dataTable =\n",
              "            await google.colab.kernel.invokeFunction('convertToInteractive',\n",
              "                                                     [key], {});\n",
              "          if (!dataTable) return;\n",
              "\n",
              "          const docLinkHtml = 'Like what you see? Visit the ' +\n",
              "            '<a target=\"_blank\" href=https://colab.research.google.com/notebooks/data_table.ipynb>data table notebook</a>'\n",
              "            + ' to learn more about interactive tables.';\n",
              "          element.innerHTML = '';\n",
              "          dataTable['output_type'] = 'display_data';\n",
              "          await google.colab.output.renderOutput(dataTable, element);\n",
              "          const docLink = document.createElement('div');\n",
              "          docLink.innerHTML = docLinkHtml;\n",
              "          element.appendChild(docLink);\n",
              "        }\n",
              "      </script>\n",
              "    </div>\n",
              "  </div>\n",
              "  "
            ]
          },
          "metadata": {},
          "execution_count": 203
        }
      ]
    },
    {
      "cell_type": "code",
      "source": [
        "len(df)"
      ],
      "metadata": {
        "colab": {
          "base_uri": "https://localhost:8080/"
        },
        "id": "IAX1NnikjiB9",
        "outputId": "82f42bb1-9871-4a17-9a32-5391892d7cb0"
      },
      "execution_count": null,
      "outputs": [
        {
          "output_type": "execute_result",
          "data": {
            "text/plain": [
              "9568"
            ]
          },
          "metadata": {},
          "execution_count": 204
        }
      ]
    },
    {
      "cell_type": "code",
      "source": [
        "print(df.isnull().any())"
      ],
      "metadata": {
        "colab": {
          "base_uri": "https://localhost:8080/"
        },
        "id": "S7CBl67LVQW_",
        "outputId": "61b9ed13-569b-409f-8496-67c0e5c7bce5"
      },
      "execution_count": null,
      "outputs": [
        {
          "output_type": "stream",
          "name": "stdout",
          "text": [
            "T     False\n",
            "V     False\n",
            "AP    False\n",
            "RH    False\n",
            "EP    False\n",
            "dtype: bool\n"
          ]
        }
      ]
    },
    {
      "cell_type": "code",
      "source": [
        "X=df.drop('EP', axis=1)\n",
        "y=df['EP']\n",
        "y=pd.DataFrame(y)"
      ],
      "metadata": {
        "id": "M2Ujpmqw8gN0"
      },
      "execution_count": null,
      "outputs": []
    },
    {
      "cell_type": "code",
      "source": [
        "''' Preprocessing- standard-scaling'''\n",
        "from sklearn.preprocessing import StandardScaler\n",
        "sc_X = StandardScaler()\n",
        "X_scaled = sc_X.fit_transform(X)\n",
        "X_scaled=pd.DataFrame(X_scaled)"
      ],
      "metadata": {
        "id": "HtWOPIKMj0UK"
      },
      "execution_count": null,
      "outputs": []
    },
    {
      "cell_type": "code",
      "source": [
        "sc_y = StandardScaler()\n",
        "y_scaled = sc_y.fit_transform(y)\n",
        "y_scaled=pd.DataFrame(y_scaled)"
      ],
      "metadata": {
        "id": "3e1IYbIyj6sK"
      },
      "execution_count": null,
      "outputs": []
    },
    {
      "cell_type": "code",
      "source": [
        "from sklearn.linear_model import LinearRegression\n",
        "from sklearn.feature_selection import RFE"
      ],
      "metadata": {
        "id": "z_4iFr2-kAju"
      },
      "execution_count": null,
      "outputs": []
    },
    {
      "cell_type": "code",
      "source": [
        "X_scaled=X_scaled.values\n",
        "y_scaled=y_scaled.values"
      ],
      "metadata": {
        "id": "xk3Om0cvkCKX"
      },
      "execution_count": null,
      "outputs": []
    },
    {
      "cell_type": "code",
      "source": [
        "''' get the number of variables that gives u max adjust R sq score,\n",
        " default selector.score in linear regression = R2 '''\n",
        "estimator = LinearRegression() #use regression model for regression problem\n",
        "list_r2=[]\n",
        "max_r2 = 0\n",
        "for i in range(1,len(X_scaled[0])+1):\n",
        "    selector = RFE(estimator, n_features_to_select=i, step=1)\n",
        "    selector = selector.fit(X_scaled, y_scaled)\n",
        "    adj_r2 = 1 - ((len(X_scaled)-1)/(len(X_scaled)-i-1))*(1-selector.score(X_scaled, y_scaled))\n",
        "    list_r2.append(adj_r2)# mse = \n",
        "    if max_r2 < adj_r2:\n",
        "        sel_features2 = selector.support_ # 12 features selected exactly to give max adj r2\n",
        "        max_r2 = adj_r2"
      ],
      "metadata": {
        "id": "AUK9GWEckFkj"
      },
      "execution_count": null,
      "outputs": []
    },
    {
      "cell_type": "code",
      "source": [
        "''' optimal features to use'''        \n",
        "X = X_scaled[:,sel_features2]\n",
        "X = pd.DataFrame(X, columns=('T', 'V', 'AP', 'RH'))"
      ],
      "metadata": {
        "id": "Nv8vU62RkI_R"
      },
      "execution_count": null,
      "outputs": []
    },
    {
      "cell_type": "code",
      "source": [
        "y = pd.DataFrame(y_scaled, columns=[('EP')])"
      ],
      "metadata": {
        "id": "uC59ANdhkMpE"
      },
      "execution_count": null,
      "outputs": []
    },
    {
      "cell_type": "code",
      "source": [
        "'''correlation matrix between X variables'''\n",
        "cor_matrix=X.astype(float).corr(method='pearson')"
      ],
      "metadata": {
        "id": "g3VB8BWckRXp"
      },
      "execution_count": null,
      "outputs": []
    },
    {
      "cell_type": "code",
      "source": [
        "'''split data'''\n",
        "from sklearn.model_selection import train_test_split\n",
        "X_train, X_test, y_train, y_test = train_test_split(X,y,test_size=0.2,random_state=0)"
      ],
      "metadata": {
        "id": "3cghvpCkkVMj"
      },
      "execution_count": null,
      "outputs": []
    },
    {
      "cell_type": "code",
      "source": [
        "'''fit linear regression to the model'''\n",
        "from sklearn.linear_model import LinearRegression\n",
        "lr1 = LinearRegression()\n",
        "lr1.fit(X_train, y_train)\n",
        "y_pred = lr1.predict(X_test)\n",
        "print(lr1.coef_, lr1.intercept_) "
      ],
      "metadata": {
        "id": "9MZ8Qw95kah8",
        "colab": {
          "base_uri": "https://localhost:8080/"
        },
        "outputId": "38627226-d8d7-4963-8682-49873892e7c7"
      },
      "execution_count": null,
      "outputs": [
        {
          "output_type": "stream",
          "name": "stdout",
          "text": [
            "[[-0.86158728 -0.17609519  0.02222787 -0.13522399]] [-0.00022411]\n"
          ]
        }
      ]
    },
    {
      "cell_type": "code",
      "source": [
        "'''R2 and adjusted R2 , and rmse'''\n",
        "from sklearn.metrics import mean_squared_error\n",
        "from sklearn.metrics import mean_absolute_error\n",
        "import math\n",
        "r2=lr1.score(X_test,y_test)\n",
        "print(r2)\n",
        "adj_r2 = 1 - ((len(X_test)-1)/(len(X_test)-i-1))*(1-lr1.score(X_test, y_test))\n",
        "print(adj_r2)"
      ],
      "metadata": {
        "colab": {
          "base_uri": "https://localhost:8080/"
        },
        "id": "8-vc7KlhEKDN",
        "outputId": "5ed278c9-9a0e-432a-ced3-3ca9d036f44d"
      },
      "execution_count": null,
      "outputs": [
        {
          "output_type": "stream",
          "name": "stdout",
          "text": [
            "0.9325315554761303\n",
            "0.9323901862890714\n"
          ]
        }
      ]
    },
    {
      "cell_type": "code",
      "source": [
        "mse=mean_squared_error(y_test, y_pred) #biased mean\n",
        "mae=mean_absolute_error(y_test, y_pred)\n",
        "rmse = math.sqrt(mse)\n",
        "print(abs(mae))\n",
        "print(rmse)"
      ],
      "metadata": {
        "colab": {
          "base_uri": "https://localhost:8080/"
        },
        "id": "aRntUilIEy8m",
        "outputId": "9b111b97-4149-4495-8993-c11548879f01"
      },
      "execution_count": null,
      "outputs": [
        {
          "output_type": "stream",
          "name": "stdout",
          "text": [
            "0.20898529880027125\n",
            "0.2602974348064625\n"
          ]
        }
      ]
    },
    {
      "cell_type": "code",
      "source": [
        "'''summary table for coefficients'''\n",
        "import statsmodels.api as sm\n",
        "from sklearn.linear_model import LinearRegression as lr\n",
        "X2_train=sm.add_constant(X_train) # add a column of 1 beside x col\n",
        "ols=sm.OLS(y_train.astype(float),X2_train.astype(float))# ordinary least square = linear regression\n",
        "lr=ols.fit() \n",
        "print(lr.summary())"
      ],
      "metadata": {
        "colab": {
          "base_uri": "https://localhost:8080/"
        },
        "id": "tIQ1MRoNFI8G",
        "outputId": "78973a83-f13e-44a0-bc6b-c55f91fb78c0"
      },
      "execution_count": null,
      "outputs": [
        {
          "output_type": "stream",
          "name": "stdout",
          "text": [
            "                            OLS Regression Results                            \n",
            "==============================================================================\n",
            "Dep. Variable:                     EP   R-squared:                       0.928\n",
            "Model:                            OLS   Adj. R-squared:                  0.928\n",
            "Method:                 Least Squares   F-statistic:                 2.455e+04\n",
            "Date:                Mon, 23 May 2022   Prob (F-statistic):               0.00\n",
            "Time:                        00:41:49   Log-Likelihood:                -801.63\n",
            "No. Observations:                7654   AIC:                             1613.\n",
            "Df Residuals:                    7649   BIC:                             1648.\n",
            "Df Model:                           4                                         \n",
            "Covariance Type:            nonrobust                                         \n",
            "==============================================================================\n",
            "                 coef    std err          t      P>|t|      [0.025      0.975]\n",
            "------------------------------------------------------------------------------\n",
            "const         -0.0002      0.003     -0.073      0.942      -0.006       0.006\n",
            "T             -0.8616      0.008   -114.394      0.000      -0.876      -0.847\n",
            "V             -0.1761      0.006    -28.917      0.000      -0.188      -0.164\n",
            "AP             0.0222      0.004      6.005      0.000       0.015       0.029\n",
            "RH            -0.1352      0.004    -33.684      0.000      -0.143      -0.127\n",
            "==============================================================================\n",
            "Omnibus:                      827.729   Durbin-Watson:                   2.036\n",
            "Prob(Omnibus):                  0.000   Jarque-Bera (JB):             4159.582\n",
            "Skew:                          -0.408   Prob(JB):                         0.00\n",
            "Kurtosis:                       6.518   Cond. No.                         4.88\n",
            "==============================================================================\n",
            "\n",
            "Warnings:\n",
            "[1] Standard Errors assume that the covariance matrix of the errors is correctly specified.\n"
          ]
        },
        {
          "output_type": "stream",
          "name": "stderr",
          "text": [
            "/usr/local/lib/python3.7/dist-packages/statsmodels/tsa/tsatools.py:117: FutureWarning: In a future version of pandas all arguments of concat except for the argument 'objs' will be keyword-only\n",
            "  x = pd.concat(x[::order], 1)\n"
          ]
        }
      ]
    },
    {
      "cell_type": "code",
      "source": [
        "'''Cross validation'''\n",
        "from sklearn.model_selection import KFold, cross_val_score\n",
        "from sklearn.linear_model import LinearRegression as lr\n",
        "from sklearn.metrics import SCORERS\n",
        "SCORERS.keys()"
      ],
      "metadata": {
        "colab": {
          "base_uri": "https://localhost:8080/"
        },
        "id": "sJDH5wJkkxCB",
        "outputId": "fa1f01a0-88f5-4607-b67b-bc267e7db5e3"
      },
      "execution_count": null,
      "outputs": [
        {
          "output_type": "execute_result",
          "data": {
            "text/plain": [
              "dict_keys(['explained_variance', 'r2', 'max_error', 'neg_median_absolute_error', 'neg_mean_absolute_error', 'neg_mean_absolute_percentage_error', 'neg_mean_squared_error', 'neg_mean_squared_log_error', 'neg_root_mean_squared_error', 'neg_mean_poisson_deviance', 'neg_mean_gamma_deviance', 'accuracy', 'top_k_accuracy', 'roc_auc', 'roc_auc_ovr', 'roc_auc_ovo', 'roc_auc_ovr_weighted', 'roc_auc_ovo_weighted', 'balanced_accuracy', 'average_precision', 'neg_log_loss', 'neg_brier_score', 'adjusted_rand_score', 'rand_score', 'homogeneity_score', 'completeness_score', 'v_measure_score', 'mutual_info_score', 'adjusted_mutual_info_score', 'normalized_mutual_info_score', 'fowlkes_mallows_score', 'precision', 'precision_macro', 'precision_micro', 'precision_samples', 'precision_weighted', 'recall', 'recall_macro', 'recall_micro', 'recall_samples', 'recall_weighted', 'f1', 'f1_macro', 'f1_micro', 'f1_samples', 'f1_weighted', 'jaccard', 'jaccard_macro', 'jaccard_micro', 'jaccard_samples', 'jaccard_weighted'])"
            ]
          },
          "metadata": {},
          "execution_count": 220
        }
      ]
    },
    {
      "cell_type": "code",
      "source": [
        "kf= KFold(n_splits=5, shuffle= True, random_state=1)\n",
        "lr= lr()"
      ],
      "metadata": {
        "id": "KYWN1V6ck0Re"
      },
      "execution_count": null,
      "outputs": []
    },
    {
      "cell_type": "code",
      "source": [
        "'''Cross validation score (R2 for test data, and full data)'''\n",
        "r2score=cross_val_score(lr1,X_test,y_test, cv=kf, scoring='r2')\n",
        "print(r2score.mean())\n",
        "r2score_b=cross_val_score(lr,X,y, cv=kf, scoring='r2')\n",
        "print(r2score_b.mean())"
      ],
      "metadata": {
        "colab": {
          "base_uri": "https://localhost:8080/"
        },
        "id": "_la2n39_k4S3",
        "outputId": "d01039ad-9096-4aaf-feef-a3da131af4e2"
      },
      "execution_count": null,
      "outputs": [
        {
          "output_type": "stream",
          "name": "stdout",
          "text": [
            "0.9320447596547753\n",
            "0.9285086820880138\n"
          ]
        }
      ]
    },
    {
      "cell_type": "code",
      "source": [
        "'''Cross validation score (RMSE for test data, and full data)'''\n",
        "RMSE=np.sqrt(-cross_val_score(lr1,X_test,y_test, cv=kf, scoring='neg_mean_squared_error'))\n",
        "print(RMSE.mean())\n",
        "RMSE_b=np.sqrt(-cross_val_score(lr,X,y, cv=kf, scoring='neg_mean_squared_error'))\n",
        "print(RMSE_b.mean())"
      ],
      "metadata": {
        "colab": {
          "base_uri": "https://localhost:8080/"
        },
        "id": "D8lFAzXKlAWG",
        "outputId": "ccb0c894-1730-42e3-c1bd-9c7ecd7a1826"
      },
      "execution_count": null,
      "outputs": [
        {
          "output_type": "stream",
          "name": "stdout",
          "text": [
            "0.26087116315567693\n",
            "0.2671856989230049\n"
          ]
        }
      ]
    },
    {
      "cell_type": "code",
      "source": [
        "'''Cross validation score (MAE for test data, and full data)'''\n",
        "MAE=-cross_val_score(lr1,X_test,y_test, cv=kf, scoring='neg_mean_absolute_error')\n",
        "print(MAE.mean())\n",
        "MAE_b=-cross_val_score(lr,X,y, cv=kf, scoring='neg_mean_absolute_error')\n",
        "print(MAE_b.mean())"
      ],
      "metadata": {
        "colab": {
          "base_uri": "https://localhost:8080/"
        },
        "id": "diju9wCrKyGI",
        "outputId": "a83eb753-8768-43e1-88b6-fb8d7036a53d"
      },
      "execution_count": null,
      "outputs": [
        {
          "output_type": "stream",
          "name": "stdout",
          "text": [
            "0.2098443437350424\n",
            "0.21257087197203064\n"
          ]
        }
      ]
    },
    {
      "cell_type": "code",
      "source": [
        "plt.figure(figsize=(8, 8))\n",
        "ax = sns.distplot(y_test, hist=False, color=\"r\", label=\"Actual Value\")\n",
        "sns.distplot(y_pred, hist=False, color=\"b\", label=\"Predicted Values\", ax=ax)\n",
        "plt.title('Actual vs Predicted value for outcome')\n",
        "plt.show()\n",
        "plt.close()"
      ],
      "metadata": {
        "colab": {
          "base_uri": "https://localhost:8080/",
          "height": 588
        },
        "id": "GRt8g-K1OoEg",
        "outputId": "0889d454-8d92-42e7-87ff-565ce6a4bd93"
      },
      "execution_count": null,
      "outputs": [
        {
          "output_type": "stream",
          "name": "stderr",
          "text": [
            "/usr/local/lib/python3.7/dist-packages/seaborn/distributions.py:2619: FutureWarning: `distplot` is a deprecated function and will be removed in a future version. Please adapt your code to use either `displot` (a figure-level function with similar flexibility) or `kdeplot` (an axes-level function for kernel density plots).\n",
            "  warnings.warn(msg, FutureWarning)\n",
            "/usr/local/lib/python3.7/dist-packages/seaborn/distributions.py:2619: FutureWarning: `distplot` is a deprecated function and will be removed in a future version. Please adapt your code to use either `displot` (a figure-level function with similar flexibility) or `kdeplot` (an axes-level function for kernel density plots).\n",
            "  warnings.warn(msg, FutureWarning)\n"
          ]
        },
        {
          "output_type": "display_data",
          "data": {
            "text/plain": [
              "<Figure size 576x576 with 1 Axes>"
            ],
            "image/png": "[encoded data removed]"
          },
          "metadata": {
            "needs_background": "light"
          }
        }
      ]
    },
    {
      "cell_type": "code",
      "source": [
        "y_test"
      ],
      "metadata": {
        "colab": {
          "base_uri": "https://localhost:8080/",
          "height": 424
        },
        "id": "Bvwf5gT_TdUw",
        "outputId": "47c0fa7c-e711-4200-80a9-58a23e448e0d"
      },
      "execution_count": null,
      "outputs": [
        {
          "output_type": "execute_result",
          "data": {
            "text/plain": [
              "            EP\n",
              "4834 -1.355612\n",
              "1768  0.330772\n",
              "2819  0.396985\n",
              "7779 -0.496013\n",
              "7065 -0.180182\n",
              "...        ...\n",
              "6452  0.347179\n",
              "794  -0.113969\n",
              "627   1.107165\n",
              "3515 -0.958919\n",
              "7600  0.522380\n",
              "\n",
              "[1914 rows x 1 columns]"
            ],
            "text/html": [
              "\n",
              "  <div id=\"df-1767bde4-56f4-4658-bcbd-939edc57b416\">\n",
              "    <div class=\"colab-df-container\">\n",
              "      <div>\n",
              "<style scoped>\n",
              "    .dataframe tbody tr th:only-of-type {\n",
              "        vertical-align: middle;\n",
              "    }\n",
              "\n",
              "    .dataframe tbody tr th {\n",
              "        vertical-align: top;\n",
              "    }\n",
              "\n",
              "    .dataframe thead th {\n",
              "        text-align: right;\n",
              "    }\n",
              "</style>\n",
              "<table border=\"1\" class=\"dataframe\">\n",
              "  <thead>\n",
              "    <tr style=\"text-align: right;\">\n",
              "      <th></th>\n",
              "      <th>EP</th>\n",
              "    </tr>\n",
              "  </thead>\n",
              "  <tbody>\n",
              "    <tr>\n",
              "      <th>4834</th>\n",
              "      <td>-1.355612</td>\n",
              "    </tr>\n",
              "    <tr>\n",
              "      <th>1768</th>\n",
              "      <td>0.330772</td>\n",
              "    </tr>\n",
              "    <tr>\n",
              "      <th>2819</th>\n",
              "      <td>0.396985</td>\n",
              "    </tr>\n",
              "    <tr>\n",
              "      <th>7779</th>\n",
              "      <td>-0.496013</td>\n",
              "    </tr>\n",
              "    <tr>\n",
              "      <th>7065</th>\n",
              "      <td>-0.180182</td>\n",
              "    </tr>\n",
              "    <tr>\n",
              "      <th>...</th>\n",
              "      <td>...</td>\n",
              "    </tr>\n",
              "    <tr>\n",
              "      <th>6452</th>\n",
              "      <td>0.347179</td>\n",
              "    </tr>\n",
              "    <tr>\n",
              "      <th>794</th>\n",
              "      <td>-0.113969</td>\n",
              "    </tr>\n",
              "    <tr>\n",
              "      <th>627</th>\n",
              "      <td>1.107165</td>\n",
              "    </tr>\n",
              "    <tr>\n",
              "      <th>3515</th>\n",
              "      <td>-0.958919</td>\n",
              "    </tr>\n",
              "    <tr>\n",
              "      <th>7600</th>\n",
              "      <td>0.522380</td>\n",
              "    </tr>\n",
              "  </tbody>\n",
              "</table>\n",
              "<p>1914 rows × 1 columns</p>\n",
              "</div>\n",
              "      <button class=\"colab-df-convert\" onclick=\"convertToInteractive('df-1767bde4-56f4-4658-bcbd-939edc57b416')\"\n",
              "              title=\"Convert this dataframe to an interactive table.\"\n",
              "              style=\"display:none;\">\n",
              "        \n",
              "  <svg xmlns=\"http://www.w3.org/2000/svg\" height=\"24px\"viewBox=\"0 0 24 24\"\n",
              "       width=\"24px\">\n",
              "    <path d=\"M0 0h24v24H0V0z\" fill=\"none\"/>\n",
              "    <path d=\"M18.56 5.44l.94 2.06.94-2.06 2.06-.94-2.06-.94-.94-2.06-.94 2.06-2.06.94zm-11 1L8.5 8.5l.94-2.06 2.06-.94-2.06-.94L8.5 2.5l-.94 2.06-2.06.94zm10 10l.94 2.06.94-2.06 2.06-.94-2.06-.94-.94-2.06-.94 2.06-2.06.94z\"/><path d=\"M17.41 7.96l-1.37-1.37c-.4-.4-.92-.59-1.43-.59-.52 0-1.04.2-1.43.59L10.3 9.45l-7.72 7.72c-.78.78-.78 2.05 0 2.83L4 21.41c.39.39.9.59 1.41.59.51 0 1.02-.2 1.41-.59l7.78-7.78 2.81-2.81c.8-.78.8-2.07 0-2.86zM5.41 20L4 18.59l7.72-7.72 1.47 1.35L5.41 20z\"/>\n",
              "  </svg>\n",
              "      </button>\n",
              "      \n",
              "  <style>\n",
              "    .colab-df-container {\n",
              "      display:flex;\n",
              "      flex-wrap:wrap;\n",
              "      gap: 12px;\n",
              "    }\n",
              "\n",
              "    .colab-df-convert {\n",
              "      background-color: #E8F0FE;\n",
              "      border: none;\n",
              "      border-radius: 50%;\n",
              "      cursor: pointer;\n",
              "      display: none;\n",
              "      fill: #1967D2;\n",
              "      height: 32px;\n",
              "      padding: 0 0 0 0;\n",
              "      width: 32px;\n",
              "    }\n",
              "\n",
              "    .colab-df-convert:hover {\n",
              "      background-color: #E2EBFA;\n",
              "      box-shadow: 0px 1px 2px rgba(60, 64, 67, 0.3), 0px 1px 3px 1px rgba(60, 64, 67, 0.15);\n",
              "      fill: #174EA6;\n",
              "    }\n",
              "\n",
              "    [theme=dark] .colab-df-convert {\n",
              "      background-color: #3B4455;\n",
              "      fill: #D2E3FC;\n",
              "    }\n",
              "\n",
              "    [theme=dark] .colab-df-convert:hover {\n",
              "      background-color: #434B5C;\n",
              "      box-shadow: 0px 1px 3px 1px rgba(0, 0, 0, 0.15);\n",
              "      filter: drop-shadow(0px 1px 2px rgba(0, 0, 0, 0.3));\n",
              "      fill: #FFFFFF;\n",
              "    }\n",
              "  </style>\n",
              "\n",
              "      <script>\n",
              "        const buttonEl =\n",
              "          document.querySelector('#df-1767bde4-56f4-4658-bcbd-939edc57b416 button.colab-df-convert');\n",
              "        buttonEl.style.display =\n",
              "          google.colab.kernel.accessAllowed ? 'block' : 'none';\n",
              "\n",
              "        async function convertToInteractive(key) {\n",
              "          const element = document.querySelector('#df-1767bde4-56f4-4658-bcbd-939edc57b416');\n",
              "          const dataTable =\n",
              "            await google.colab.kernel.invokeFunction('convertToInteractive',\n",
              "                                                     [key], {});\n",
              "          if (!dataTable) return;\n",
              "\n",
              "          const docLinkHtml = 'Like what you see? Visit the ' +\n",
              "            '<a target=\"_blank\" href=https://colab.research.google.com/notebooks/data_table.ipynb>data table notebook</a>'\n",
              "            + ' to learn more about interactive tables.';\n",
              "          element.innerHTML = '';\n",
              "          dataTable['output_type'] = 'display_data';\n",
              "          await google.colab.output.renderOutput(dataTable, element);\n",
              "          const docLink = document.createElement('div');\n",
              "          docLink.innerHTML = docLinkHtml;\n",
              "          element.appendChild(docLink);\n",
              "        }\n",
              "      </script>\n",
              "    </div>\n",
              "  </div>\n",
              "  "
            ]
          },
          "metadata": {},
          "execution_count": 226
        }
      ]
    },
    {
      "cell_type": "code",
      "source": [
        "y_pred"
      ],
      "metadata": {
        "colab": {
          "base_uri": "https://localhost:8080/"
        },
        "id": "97o2YDzeTfmC",
        "outputId": "6dfe732d-4786-4817-9865-19859ce6cae6"
      },
      "execution_count": null,
      "outputs": [
        {
          "output_type": "execute_result",
          "data": {
            "text/plain": [
              "array([[-1.34403228],\n",
              "       [ 0.24588137],\n",
              "       [ 0.49147937],\n",
              "       ...,\n",
              "       [ 0.8879209 ],\n",
              "       [-0.70006696],\n",
              "       [ 0.44051005]])"
            ]
          },
          "metadata": {},
          "execution_count": 227
        }
      ]
    },
    {
      "cell_type": "code",
      "source": [
        "from scipy.stats.stats import ks_2samp\n",
        "from math import sqrt\n",
        "k_range = range(1, 26)\n",
        "rmse_val = [] #to store rmse values for different k\n",
        "for X in k_range:\n",
        "    model = LinearRegression()\n",
        "    model.fit(X_train, y_train)  #fit the model\n",
        "    pred=model.predict(X_test) #make prediction on test set\n",
        "    error = sqrt(mean_squared_error(y_test,pred)) #calculate rmse\n",
        "    rmse_val.append(error) #store rmse values\n",
        "    print('RMSE value for k= ' , X , 'is:', error)"
      ],
      "metadata": {
        "colab": {
          "base_uri": "https://localhost:8080/"
        },
        "id": "2UAweiT0dyH1",
        "outputId": "9196ed6d-d635-4d02-c580-dbc7f3990b2f"
      },
      "execution_count": null,
      "outputs": [
        {
          "output_type": "stream",
          "name": "stdout",
          "text": [
            "RMSE value for k=  1 is: 0.2602974348064625\n",
            "RMSE value for k=  2 is: 0.2602974348064625\n",
            "RMSE value for k=  3 is: 0.2602974348064625\n",
            "RMSE value for k=  4 is: 0.2602974348064625\n",
            "RMSE value for k=  5 is: 0.2602974348064625\n",
            "RMSE value for k=  6 is: 0.2602974348064625\n",
            "RMSE value for k=  7 is: 0.2602974348064625\n",
            "RMSE value for k=  8 is: 0.2602974348064625\n",
            "RMSE value for k=  9 is: 0.2602974348064625\n",
            "RMSE value for k=  10 is: 0.2602974348064625\n",
            "RMSE value for k=  11 is: 0.2602974348064625\n",
            "RMSE value for k=  12 is: 0.2602974348064625\n",
            "RMSE value for k=  13 is: 0.2602974348064625\n",
            "RMSE value for k=  14 is: 0.2602974348064625\n",
            "RMSE value for k=  15 is: 0.2602974348064625\n",
            "RMSE value for k=  16 is: 0.2602974348064625\n",
            "RMSE value for k=  17 is: 0.2602974348064625\n",
            "RMSE value for k=  18 is: 0.2602974348064625\n",
            "RMSE value for k=  19 is: 0.2602974348064625\n",
            "RMSE value for k=  20 is: 0.2602974348064625\n",
            "RMSE value for k=  21 is: 0.2602974348064625\n",
            "RMSE value for k=  22 is: 0.2602974348064625\n",
            "RMSE value for k=  23 is: 0.2602974348064625\n",
            "RMSE value for k=  24 is: 0.2602974348064625\n",
            "RMSE value for k=  25 is: 0.2602974348064625\n"
          ]
        }
      ]
    },
    {
      "cell_type": "code",
      "source": [
        "#plotting the rmse values against k values\n",
        "curve = pd.DataFrame(rmse_val) #elbow curve \n",
        "curve.plot()"
      ],
      "metadata": {
        "id": "Pdy3Ckqzd2oi",
        "colab": {
          "base_uri": "https://localhost:8080/",
          "height": 282
        },
        "outputId": "243eb0fa-775a-4667-dace-4a2b5b1b9c79"
      },
      "execution_count": null,
      "outputs": [
        {
          "output_type": "execute_result",
          "data": {
            "text/plain": [
              "<matplotlib.axes._subplots.AxesSubplot at 0x7f5b2417db10>"
            ]
          },
          "metadata": {},
          "execution_count": 230
        },
        {
          "output_type": "display_data",
          "data": {
            "text/plain": [
              "<Figure size 432x288 with 1 Axes>"
            ],
            "image/png": "[encoded data removed]"
          },
          "metadata": {
            "needs_background": "light"
          }
        }
      ]
    },
    {
      "cell_type": "code",
      "source": [
        "end=time.time()\n",
        "print(\"Execution time=\", end-start)"
      ],
      "metadata": {
        "id": "X-2tpdkRWzPT",
        "colab": {
          "base_uri": "https://localhost:8080/"
        },
        "outputId": "2300b400-0aca-4494-e7d7-75107d9efac1"
      },
      "execution_count": null,
      "outputs": [
        {
          "output_type": "stream",
          "name": "stdout",
          "text": [
            "Execution time= 2481.341897726059\n"
          ]
        }
      ]
    }
  ]
}